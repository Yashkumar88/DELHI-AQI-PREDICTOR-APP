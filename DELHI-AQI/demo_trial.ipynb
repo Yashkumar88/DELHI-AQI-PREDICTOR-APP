{
 "cells": [
  {
   "cell_type": "code",
   "execution_count": null,
   "id": "ae330fb1",
   "metadata": {},
   "outputs": [],
   "source": []
  },
  {
   "cell_type": "code",
   "execution_count": null,
   "id": "2237be3f",
   "metadata": {},
   "outputs": [],
   "source": []
  },
  {
   "cell_type": "code",
   "execution_count": null,
   "id": "35b888d5",
   "metadata": {},
   "outputs": [],
   "source": [
    "# life cycle of data science  data analyst \n",
    "\n",
    "# data collection (sql.api,third party, web-scraping)\n",
    "# understanding of data \n",
    "# cleaning \n",
    "# insights \n",
    "# modeling \n",
    "# user - interface  (streamlit , flask , django)\n",
    " \n",
    "# pipeline (big data :- hadoop, hive , pyspark)\n",
    "# cloud (devops) "
   ]
  },
  {
   "cell_type": "code",
   "execution_count": null,
   "id": "e030a31a",
   "metadata": {},
   "outputs": [],
   "source": []
  },
  {
   "cell_type": "code",
   "execution_count": null,
   "id": "b8182f90",
   "metadata": {},
   "outputs": [],
   "source": []
  },
  {
   "cell_type": "code",
   "execution_count": null,
   "id": "42caf716",
   "metadata": {},
   "outputs": [],
   "source": []
  },
  {
   "cell_type": "code",
   "execution_count": null,
   "id": "891cff40",
   "metadata": {},
   "outputs": [],
   "source": []
  },
  {
   "cell_type": "code",
   "execution_count": null,
   "id": "ec83a455",
   "metadata": {},
   "outputs": [],
   "source": []
  },
  {
   "cell_type": "markdown",
   "id": "a8117786",
   "metadata": {},
   "source": [
    "### Breakdown of Importance\n",
    "Understanding the Data (20-30%)\n",
    "\n",
    "EDA is the foundation for understanding the dataset's structure, distribution, and quality.\n",
    "It helps identify trends, anomalies, missing values, and relationships within the data.\n",
    "This step often dictates the direction of the project.\n",
    "Data Cleaning and Preprocessing (30-40%)\n",
    "\n",
    "Most of the issues uncovered during EDA (e.g., missing values, outliers, duplicate entries) are addressed here.\n",
    "Cleaned and well-understood data significantly improves model performance.\n",
    "Feature Selection and Engineering (10-20%)\n",
    "\n",
    "EDA aids in identifying the most important variables for the model and creating new features.\n",
    "Proper feature engineering can account for a large portion of a model's success"
   ]
  },
  {
   "cell_type": "code",
   "execution_count": null,
   "id": "1bb626eb",
   "metadata": {},
   "outputs": [],
   "source": []
  },
  {
   "cell_type": "code",
   "execution_count": null,
   "id": "2fe452f1",
   "metadata": {},
   "outputs": [],
   "source": []
  },
  {
   "cell_type": "code",
   "execution_count": null,
   "id": "dad8298b",
   "metadata": {},
   "outputs": [],
   "source": []
  },
  {
   "cell_type": "code",
   "execution_count": 1,
   "id": "e1d758c3",
   "metadata": {},
   "outputs": [],
   "source": [
    "# quotation :- IN DATA SCIENCE EXPLONATORY DATA ANALYST (EDA) IS THE BACKBONE "
   ]
  },
  {
   "cell_type": "code",
   "execution_count": 1,
   "id": "85368a6a",
   "metadata": {},
   "outputs": [
    {
     "name": "stdout",
     "output_type": "stream",
     "text": [
      "IN DATA SCIENCE EXPLONATORY DATA ANALYST (EDA) IS THE BACKBONE 💪\n"
     ]
    }
   ],
   "source": [
    "print(\"IN DATA SCIENCE EXPLONATORY DATA ANALYST (EDA) IS THE BACKBONE \\N{FLEXED BICEPS}\")"
   ]
  },
  {
   "cell_type": "code",
   "execution_count": null,
   "id": "b820dddd",
   "metadata": {},
   "outputs": [],
   "source": []
  },
  {
   "cell_type": "markdown",
   "id": "89a116b5",
   "metadata": {},
   "source": [
    "### 1.)  Define the Objective\n",
    "<i> Understand the problem you are solving.<br><br>\n",
    "Identify key questions and goals for EDA.<br>"
   ]
  },
  {
   "cell_type": "code",
   "execution_count": 2,
   "id": "a575309f",
   "metadata": {},
   "outputs": [
    {
     "name": "stdout",
     "output_type": "stream",
     "text": [
      "\n",
      "DATA  DICTIONARY \n",
      "\n",
      "AQI OF DELHI  - 2021 – 2023 \n",
      "\n",
      "Here’s a simple and student-friendly explanation of each column in your dataset. This explanation can help students understand the relevance and purpose of the data:\n",
      "\n",
      "1.From Date:  This is the starting time when the air quality data was collected. It helps us understand when the measurement period began.\n",
      "\n",
      "2.To Date:    This is the ending time for the data collection. Together with \"From Date,\" it tells us the time range for each measurement.\n",
      "\n",
      "3.Ozone:      The amount of ozone (O₃) in the air, measured in micrograms per cubic meter (µg/m³). Ozone is a key air pollutant that impacts both human health and the environment.\n",
      "\n",
      "4.CO:        Carbon Monoxide levels in the air, measured in milligrams per cubic meter (mg/m³). High levels can come from vehicle emissions and industrial processes, making it a critical pollutant to monitor.\n",
      "\n",
      "5.SO2:       Sulphur Dioxide concentration in the air, measured in µg/m³. This pollutant often comes from burning fossil fuels and can cause respiratory issues.\n",
      "\n",
      "6.NO2:       Nitrogen Dioxide concentration, measured in µg/m³. It's an indicator of pollution from vehicles and industrial activities. NO2 also contributes to smog formation.\n",
      "\n",
      "7.PM10:      Particulate matter (dust particles) with a size of 10 micrometres or smaller, measured in µg/m³. These particles can irritate the eyes, nose, and throat.\n",
      "\n",
      "8.PM2.5:     Very fine particulate matter (smaller than 2.5 micrometres), also measured in µg/m³. These particles can penetrate deep into the lungs and cause serious health issues, like asthma and heart disease.\n",
      "\n",
      "9.State:     The name of the state where the air quality measurement was taken. This helps in analysing how pollution varies across different regions.\n",
      "\n",
      "10.City:     The name of the city where the air quality station is located. It provides more localized data for specific urban or rural areas.\n",
      "\n",
      "11.Station: The specific monitoring station where the data was recorded. This helps pinpoint the exact location of the measurements and allows for micro-level analysis.\n",
      "________________________________________\n",
      "Why Is This Data Important?\n",
      "•\tThe date and time columns help us analyse trends over time and understand when pollution levels are high.\n",
      "•\tThe pollutant columns (Ozone, CO, SO2, NO2, PM10, PM2.5) provide insights into the air quality and health impacts.\n",
      "•\tThe location columns (State, City, Station) allow us to compare pollution levels across regions and identify hotspots.\n",
      "This dictionary gives students a clear idea of what the dataset contains and how each column contributes to understanding air quality.\n",
      "\n",
      "\n",
      "\n",
      "\n",
      "AQI (Air Quality Index) in Delhi\n",
      "\n",
      "\n",
      "The Air Quality Index (AQI) in Delhi often ranges from \"Moderate\" to \"Hazardous\",\n",
      " depending on the time of year, weather conditions, and pollution sources. \n",
      "During the winter months, \n",
      "AQI frequently crosses the \"Severe\" level, primarily due to industrial emissions, vehicular pollution, construction dust, and crop residue burning in neighboring states.\n",
      "\n",
      "Common Gases and Pollutants in Delhi's Air\n",
      "The air in Delhi contains a mix of the following pollutants:\n",
      "\n",
      "Ozone (O₃)\n",
      "\n",
      "Ground-level ozone forms when pollutants like nitrogen oxides (NOₓ) and volatile organic compounds (VOCs) react in sunlight.\n",
      "Causes respiratory problems and throat irritation.\n",
      "Carbon Monoxide (CO)\n",
      "\n",
      "Primarily emitted from vehicular emissions and incomplete combustion of fossil fuels.\n",
      "Reduces oxygen supply in the bloodstream and can be fatal in high concentrations.\n",
      "Sulfur Dioxide (SO₂)\n",
      "\n",
      "Emitted from power plants, industrial processes, and burning coal or diesel.\n",
      "Contributes to acid rain and irritates the respiratory system.\n",
      "Nitrogen Dioxide (NO₂)\n",
      "\n",
      "Produced from vehicles, power plants, and burning of fossil fuels.\n",
      "Contributes to the formation of smog and acid rain.\n",
      "Particulate Matter (PM2.5 and PM10)\n",
      "\n",
      "Fine particles (PM2.5) and coarse particles (PM10) come from construction dust, vehicular emissions, and crop burning.\n",
      "Penetrates deep into the lungs and bloodstream, causing cardiovascular and respiratory diseases.\n",
      "Ammonia (NH₃)\n",
      "\n",
      "Emitted from agricultural activities and waste management.\n",
      "Reacts with other pollutants to form secondary particulates.\n",
      "Volatile Organic Compounds (VOCs)\n",
      "\n",
      "Released from industrial processes, vehicular exhaust, and household products.\n",
      "Contribute to the formation of ozone and smog.\n",
      "\n",
      "\n",
      "Key Insights\n",
      "\n",
      "M2.5 and PM10 are the most critical pollutants, as they remain suspended in the air for long durations and pose severe health risks.\n",
      "The interaction of pollutants, such as NO₂ and VOCs, with sunlight worsens air quality by creating ground-level ozone.\n"
     ]
    }
   ],
   "source": [
    "# DATA DICTIONARY calls\n",
    "\n",
    "# FILE HANDLING \n",
    "\n",
    "with open(\"air_quality_index_dictionary.txt\",\"r\",encoding=\"utf-8\") as f:\n",
    "    print(f.read())\n"
   ]
  },
  {
   "cell_type": "code",
   "execution_count": null,
   "id": "8cf40139",
   "metadata": {},
   "outputs": [],
   "source": []
  },
  {
   "cell_type": "markdown",
   "id": "83e09f5e",
   "metadata": {},
   "source": [
    "### b. Data Collection\n",
    "\n",
    "Identify the source of the data (e.g., CSV, SQL database, API).<br><br>  <b> <br>\n",
    "Load the dataset into your environment using tools like Pandas in Python. \n"
   ]
  },
  {
   "cell_type": "code",
   "execution_count": 3,
   "id": "ed67572a",
   "metadata": {},
   "outputs": [
    {
     "name": "stdout",
     "output_type": "stream",
     "text": [
      "Python 3.9.16\n"
     ]
    }
   ],
   "source": [
    "# check python version\n",
    "\n",
    "!python --version"
   ]
  },
  {
   "cell_type": "code",
   "execution_count": null,
   "id": "af53fb36",
   "metadata": {},
   "outputs": [],
   "source": []
  },
  {
   "cell_type": "markdown",
   "id": "4d1f531f",
   "metadata": {},
   "source": [
    "#### 2. Data Loading\n",
    "\n",
    "a. Import Necessary Libraries\n"
   ]
  },
  {
   "cell_type": "code",
   "execution_count": null,
   "id": "29e768a3",
   "metadata": {},
   "outputs": [],
   "source": [
    "# ! pip install pandas \n",
    "# ! pip install numpy \n",
    "# ! pip install matplotlib\n",
    "# ! pip install seaborn \n"
   ]
  },
  {
   "cell_type": "code",
   "execution_count": 5,
   "id": "0f880036",
   "metadata": {},
   "outputs": [],
   "source": [
    "import pandas as pd # panel data \n",
    "import numpy as np  # numerical \n",
    "\n",
    "# -- visualization \n",
    "\n",
    "import seaborn as sns \n",
    "import matplotlib.pyplot as plt "
   ]
  },
  {
   "cell_type": "code",
   "execution_count": 6,
   "id": "312717fe",
   "metadata": {},
   "outputs": [],
   "source": [
    "import os "
   ]
  },
  {
   "cell_type": "code",
   "execution_count": 7,
   "id": "6d5211b7",
   "metadata": {},
   "outputs": [
    {
     "data": {
      "text/plain": [
       "['.ipynb_checkpoints',\n",
       " 'air_quality_index_dictionary.txt',\n",
       " 'data.csv',\n",
       " 'Delhi is commonly divided into several districts.docx',\n",
       " 'Delhi.xlsx',\n",
       " 'demo_trial.ipynb',\n",
       " 'demo_trial_1.ipynb',\n",
       " 'demo_trial_2.ipynb',\n",
       " 'try.py']"
      ]
     },
     "execution_count": 7,
     "metadata": {},
     "output_type": "execute_result"
    }
   ],
   "source": [
    "os.listdir()"
   ]
  },
  {
   "cell_type": "code",
   "execution_count": 8,
   "id": "9ef05624",
   "metadata": {},
   "outputs": [
    {
     "data": {
      "text/html": [
       "<div>\n",
       "<style scoped>\n",
       "    .dataframe tbody tr th:only-of-type {\n",
       "        vertical-align: middle;\n",
       "    }\n",
       "\n",
       "    .dataframe tbody tr th {\n",
       "        vertical-align: top;\n",
       "    }\n",
       "\n",
       "    .dataframe thead th {\n",
       "        text-align: right;\n",
       "    }\n",
       "</style>\n",
       "<table border=\"1\" class=\"dataframe\">\n",
       "  <thead>\n",
       "    <tr style=\"text-align: right;\">\n",
       "      <th></th>\n",
       "      <th>From Date</th>\n",
       "      <th>To Date</th>\n",
       "      <th>Ozone</th>\n",
       "      <th>CO</th>\n",
       "      <th>SO2</th>\n",
       "      <th>NO2</th>\n",
       "      <th>PM10</th>\n",
       "      <th>PM2.5</th>\n",
       "      <th>State</th>\n",
       "      <th>City</th>\n",
       "      <th>Station</th>\n",
       "    </tr>\n",
       "  </thead>\n",
       "  <tbody>\n",
       "    <tr>\n",
       "      <th>0</th>\n",
       "      <td>01-08-2021 00:00</td>\n",
       "      <td>02-08-2021 00:00</td>\n",
       "      <td>18.48</td>\n",
       "      <td>0.88</td>\n",
       "      <td>9.89</td>\n",
       "      <td>19.15</td>\n",
       "      <td>59.77</td>\n",
       "      <td>45.89</td>\n",
       "      <td>Delhi</td>\n",
       "      <td>Delhi</td>\n",
       "      <td>DTU, Delhi - CPCB</td>\n",
       "    </tr>\n",
       "    <tr>\n",
       "      <th>1</th>\n",
       "      <td>02-08-2021 00:00</td>\n",
       "      <td>03-08-2021 00:00</td>\n",
       "      <td>17.44</td>\n",
       "      <td>0.98</td>\n",
       "      <td>12.87</td>\n",
       "      <td>21.79</td>\n",
       "      <td>56.22</td>\n",
       "      <td>44.42</td>\n",
       "      <td>Delhi</td>\n",
       "      <td>Delhi</td>\n",
       "      <td>DTU, Delhi - CPCB</td>\n",
       "    </tr>\n",
       "    <tr>\n",
       "      <th>2</th>\n",
       "      <td>03-08-2021 00:00</td>\n",
       "      <td>04-08-2021 00:00</td>\n",
       "      <td>13.18</td>\n",
       "      <td>0.54</td>\n",
       "      <td>13.88</td>\n",
       "      <td>23.08</td>\n",
       "      <td>53.49</td>\n",
       "      <td>33.90</td>\n",
       "      <td>Delhi</td>\n",
       "      <td>Delhi</td>\n",
       "      <td>DTU, Delhi - CPCB</td>\n",
       "    </tr>\n",
       "    <tr>\n",
       "      <th>3</th>\n",
       "      <td>04-08-2021 00:00</td>\n",
       "      <td>05-08-2021 00:00</td>\n",
       "      <td>19.40</td>\n",
       "      <td>0.50</td>\n",
       "      <td>12.16</td>\n",
       "      <td>23.56</td>\n",
       "      <td>69.66</td>\n",
       "      <td>35.70</td>\n",
       "      <td>Delhi</td>\n",
       "      <td>Delhi</td>\n",
       "      <td>DTU, Delhi - CPCB</td>\n",
       "    </tr>\n",
       "    <tr>\n",
       "      <th>4</th>\n",
       "      <td>05-08-2021 00:00</td>\n",
       "      <td>06-08-2021 00:00</td>\n",
       "      <td>21.78</td>\n",
       "      <td>0.54</td>\n",
       "      <td>12.05</td>\n",
       "      <td>24.25</td>\n",
       "      <td>86.49</td>\n",
       "      <td>48.55</td>\n",
       "      <td>Delhi</td>\n",
       "      <td>Delhi</td>\n",
       "      <td>DTU, Delhi - CPCB</td>\n",
       "    </tr>\n",
       "  </tbody>\n",
       "</table>\n",
       "</div>"
      ],
      "text/plain": [
       "          From Date           To Date  Ozone    CO    SO2    NO2   PM10  \\\n",
       "0  01-08-2021 00:00  02-08-2021 00:00  18.48  0.88   9.89  19.15  59.77   \n",
       "1  02-08-2021 00:00  03-08-2021 00:00  17.44  0.98  12.87  21.79  56.22   \n",
       "2  03-08-2021 00:00  04-08-2021 00:00  13.18  0.54  13.88  23.08  53.49   \n",
       "3  04-08-2021 00:00  05-08-2021 00:00  19.40  0.50  12.16  23.56  69.66   \n",
       "4  05-08-2021 00:00  06-08-2021 00:00  21.78  0.54  12.05  24.25  86.49   \n",
       "\n",
       "   PM2.5  State   City            Station  \n",
       "0  45.89  Delhi  Delhi  DTU, Delhi - CPCB  \n",
       "1  44.42  Delhi  Delhi  DTU, Delhi - CPCB  \n",
       "2  33.90  Delhi  Delhi  DTU, Delhi - CPCB  \n",
       "3  35.70  Delhi  Delhi  DTU, Delhi - CPCB  \n",
       "4  48.55  Delhi  Delhi  DTU, Delhi - CPCB  "
      ]
     },
     "execution_count": 8,
     "metadata": {},
     "output_type": "execute_result"
    }
   ],
   "source": [
    "df = pd.read_excel(\"Delhi.xlsx\")   # pd\n",
    "df.head()"
   ]
  },
  {
   "cell_type": "code",
   "execution_count": 13,
   "id": "08ac6b48",
   "metadata": {},
   "outputs": [],
   "source": [
    "for i in os.listdir():    # loops for loop and while loops\n",
    "    if i.endswith(\".xlsx\"):\n",
    "        df = pd.read_excel(i)"
   ]
  },
  {
   "cell_type": "markdown",
   "id": "7085f4f4",
   "metadata": {},
   "source": [
    "### load the data "
   ]
  },
  {
   "cell_type": "code",
   "execution_count": null,
   "id": "37eb63b8",
   "metadata": {},
   "outputs": [],
   "source": [
    "# import library's"
   ]
  },
  {
   "cell_type": "code",
   "execution_count": 14,
   "id": "722c2f13",
   "metadata": {},
   "outputs": [
    {
     "data": {
      "text/html": [
       "<div>\n",
       "<style scoped>\n",
       "    .dataframe tbody tr th:only-of-type {\n",
       "        vertical-align: middle;\n",
       "    }\n",
       "\n",
       "    .dataframe tbody tr th {\n",
       "        vertical-align: top;\n",
       "    }\n",
       "\n",
       "    .dataframe thead th {\n",
       "        text-align: right;\n",
       "    }\n",
       "</style>\n",
       "<table border=\"1\" class=\"dataframe\">\n",
       "  <thead>\n",
       "    <tr style=\"text-align: right;\">\n",
       "      <th></th>\n",
       "      <th>From Date</th>\n",
       "      <th>To Date</th>\n",
       "      <th>Ozone</th>\n",
       "      <th>CO</th>\n",
       "      <th>SO2</th>\n",
       "      <th>NO2</th>\n",
       "      <th>PM10</th>\n",
       "      <th>PM2.5</th>\n",
       "      <th>State</th>\n",
       "      <th>City</th>\n",
       "      <th>Station</th>\n",
       "    </tr>\n",
       "  </thead>\n",
       "  <tbody>\n",
       "    <tr>\n",
       "      <th>0</th>\n",
       "      <td>01-08-2021 00:00</td>\n",
       "      <td>02-08-2021 00:00</td>\n",
       "      <td>18.48</td>\n",
       "      <td>0.88</td>\n",
       "      <td>9.89</td>\n",
       "      <td>19.15</td>\n",
       "      <td>59.77</td>\n",
       "      <td>45.89</td>\n",
       "      <td>Delhi</td>\n",
       "      <td>Delhi</td>\n",
       "      <td>DTU, Delhi - CPCB</td>\n",
       "    </tr>\n",
       "    <tr>\n",
       "      <th>1</th>\n",
       "      <td>02-08-2021 00:00</td>\n",
       "      <td>03-08-2021 00:00</td>\n",
       "      <td>17.44</td>\n",
       "      <td>0.98</td>\n",
       "      <td>12.87</td>\n",
       "      <td>21.79</td>\n",
       "      <td>56.22</td>\n",
       "      <td>44.42</td>\n",
       "      <td>Delhi</td>\n",
       "      <td>Delhi</td>\n",
       "      <td>DTU, Delhi - CPCB</td>\n",
       "    </tr>\n",
       "    <tr>\n",
       "      <th>2</th>\n",
       "      <td>03-08-2021 00:00</td>\n",
       "      <td>04-08-2021 00:00</td>\n",
       "      <td>13.18</td>\n",
       "      <td>0.54</td>\n",
       "      <td>13.88</td>\n",
       "      <td>23.08</td>\n",
       "      <td>53.49</td>\n",
       "      <td>33.90</td>\n",
       "      <td>Delhi</td>\n",
       "      <td>Delhi</td>\n",
       "      <td>DTU, Delhi - CPCB</td>\n",
       "    </tr>\n",
       "    <tr>\n",
       "      <th>3</th>\n",
       "      <td>04-08-2021 00:00</td>\n",
       "      <td>05-08-2021 00:00</td>\n",
       "      <td>19.40</td>\n",
       "      <td>0.50</td>\n",
       "      <td>12.16</td>\n",
       "      <td>23.56</td>\n",
       "      <td>69.66</td>\n",
       "      <td>35.70</td>\n",
       "      <td>Delhi</td>\n",
       "      <td>Delhi</td>\n",
       "      <td>DTU, Delhi - CPCB</td>\n",
       "    </tr>\n",
       "    <tr>\n",
       "      <th>4</th>\n",
       "      <td>05-08-2021 00:00</td>\n",
       "      <td>06-08-2021 00:00</td>\n",
       "      <td>21.78</td>\n",
       "      <td>0.54</td>\n",
       "      <td>12.05</td>\n",
       "      <td>24.25</td>\n",
       "      <td>86.49</td>\n",
       "      <td>48.55</td>\n",
       "      <td>Delhi</td>\n",
       "      <td>Delhi</td>\n",
       "      <td>DTU, Delhi - CPCB</td>\n",
       "    </tr>\n",
       "    <tr>\n",
       "      <th>5</th>\n",
       "      <td>06-08-2021 00:00</td>\n",
       "      <td>07-08-2021 00:00</td>\n",
       "      <td>20.77</td>\n",
       "      <td>0.64</td>\n",
       "      <td>8.86</td>\n",
       "      <td>38.81</td>\n",
       "      <td>91.74</td>\n",
       "      <td>42.44</td>\n",
       "      <td>Delhi</td>\n",
       "      <td>Delhi</td>\n",
       "      <td>DTU, Delhi - CPCB</td>\n",
       "    </tr>\n",
       "    <tr>\n",
       "      <th>6</th>\n",
       "      <td>07-08-2021 00:00</td>\n",
       "      <td>08-08-2021 00:00</td>\n",
       "      <td>15.96</td>\n",
       "      <td>0.81</td>\n",
       "      <td>8.28</td>\n",
       "      <td>24.04</td>\n",
       "      <td>98.51</td>\n",
       "      <td>57.15</td>\n",
       "      <td>Delhi</td>\n",
       "      <td>Delhi</td>\n",
       "      <td>DTU, Delhi - CPCB</td>\n",
       "    </tr>\n",
       "    <tr>\n",
       "      <th>7</th>\n",
       "      <td>08-08-2021 00:00</td>\n",
       "      <td>09-08-2021 00:00</td>\n",
       "      <td>13.84</td>\n",
       "      <td>0.89</td>\n",
       "      <td>7.55</td>\n",
       "      <td>28.19</td>\n",
       "      <td>64.09</td>\n",
       "      <td>49.75</td>\n",
       "      <td>Delhi</td>\n",
       "      <td>Delhi</td>\n",
       "      <td>DTU, Delhi - CPCB</td>\n",
       "    </tr>\n",
       "    <tr>\n",
       "      <th>8</th>\n",
       "      <td>09-08-2021 00:00</td>\n",
       "      <td>10-08-2021 00:00</td>\n",
       "      <td>14.77</td>\n",
       "      <td>1.19</td>\n",
       "      <td>7.70</td>\n",
       "      <td>30.15</td>\n",
       "      <td>88.00</td>\n",
       "      <td>58.02</td>\n",
       "      <td>Delhi</td>\n",
       "      <td>Delhi</td>\n",
       "      <td>DTU, Delhi - CPCB</td>\n",
       "    </tr>\n",
       "    <tr>\n",
       "      <th>9</th>\n",
       "      <td>10-08-2021 00:00</td>\n",
       "      <td>11-08-2021 00:00</td>\n",
       "      <td>14.54</td>\n",
       "      <td>0.58</td>\n",
       "      <td>7.71</td>\n",
       "      <td>29.09</td>\n",
       "      <td>149.79</td>\n",
       "      <td>46.72</td>\n",
       "      <td>Delhi</td>\n",
       "      <td>Delhi</td>\n",
       "      <td>DTU, Delhi - CPCB</td>\n",
       "    </tr>\n",
       "  </tbody>\n",
       "</table>\n",
       "</div>"
      ],
      "text/plain": [
       "          From Date           To Date  Ozone    CO    SO2    NO2    PM10  \\\n",
       "0  01-08-2021 00:00  02-08-2021 00:00  18.48  0.88   9.89  19.15   59.77   \n",
       "1  02-08-2021 00:00  03-08-2021 00:00  17.44  0.98  12.87  21.79   56.22   \n",
       "2  03-08-2021 00:00  04-08-2021 00:00  13.18  0.54  13.88  23.08   53.49   \n",
       "3  04-08-2021 00:00  05-08-2021 00:00  19.40  0.50  12.16  23.56   69.66   \n",
       "4  05-08-2021 00:00  06-08-2021 00:00  21.78  0.54  12.05  24.25   86.49   \n",
       "5  06-08-2021 00:00  07-08-2021 00:00  20.77  0.64   8.86  38.81   91.74   \n",
       "6  07-08-2021 00:00  08-08-2021 00:00  15.96  0.81   8.28  24.04   98.51   \n",
       "7  08-08-2021 00:00  09-08-2021 00:00  13.84  0.89   7.55  28.19   64.09   \n",
       "8  09-08-2021 00:00  10-08-2021 00:00  14.77  1.19   7.70  30.15   88.00   \n",
       "9  10-08-2021 00:00  11-08-2021 00:00  14.54  0.58   7.71  29.09  149.79   \n",
       "\n",
       "   PM2.5  State   City            Station  \n",
       "0  45.89  Delhi  Delhi  DTU, Delhi - CPCB  \n",
       "1  44.42  Delhi  Delhi  DTU, Delhi - CPCB  \n",
       "2  33.90  Delhi  Delhi  DTU, Delhi - CPCB  \n",
       "3  35.70  Delhi  Delhi  DTU, Delhi - CPCB  \n",
       "4  48.55  Delhi  Delhi  DTU, Delhi - CPCB  \n",
       "5  42.44  Delhi  Delhi  DTU, Delhi - CPCB  \n",
       "6  57.15  Delhi  Delhi  DTU, Delhi - CPCB  \n",
       "7  49.75  Delhi  Delhi  DTU, Delhi - CPCB  \n",
       "8  58.02  Delhi  Delhi  DTU, Delhi - CPCB  \n",
       "9  46.72  Delhi  Delhi  DTU, Delhi - CPCB  "
      ]
     },
     "execution_count": 14,
     "metadata": {},
     "output_type": "execute_result"
    }
   ],
   "source": [
    "df.head(10)   # sql limit"
   ]
  },
  {
   "cell_type": "code",
   "execution_count": null,
   "id": "6266bb5e",
   "metadata": {},
   "outputs": [],
   "source": []
  },
  {
   "cell_type": "markdown",
   "id": "4ecc4d03",
   "metadata": {},
   "source": [
    "### 3. Examine the Dataset\n",
    "<pre>\n",
    "a. Basic Information (shape,head,columns,Understand column types) \n",
    "\n",
    "b. Check for Missing Values  \n",
    "c. remove outlier , etc\n",
    "\n",
    "d. dtypes correct data types\n",
    "\n",
    "e. Summary Statistics\n",
    "\n",
    "</pre>"
   ]
  },
  {
   "cell_type": "code",
   "execution_count": 16,
   "id": "cf3bafce",
   "metadata": {},
   "outputs": [
    {
     "name": "stdout",
     "output_type": "stream",
     "text": [
      "(21900, 11)\n",
      "rows :21900 \n",
      "cols :11\n"
     ]
    }
   ],
   "source": [
    "print(df.shape) \n",
    "print(f\"rows :{df.shape[0]} \\ncols :{df.shape[1]}\")"
   ]
  },
  {
   "cell_type": "code",
   "execution_count": 17,
   "id": "d2c4be55",
   "metadata": {},
   "outputs": [
    {
     "data": {
      "text/plain": [
       "Index(['From Date', 'To Date', 'Ozone', 'CO', 'SO2', 'NO2', 'PM10', 'PM2.5',\n",
       "       'State', 'City', 'Station'],\n",
       "      dtype='object')"
      ]
     },
     "execution_count": 17,
     "metadata": {},
     "output_type": "execute_result"
    }
   ],
   "source": [
    "df.columns"
   ]
  },
  {
   "cell_type": "code",
   "execution_count": 20,
   "id": "89a2c510",
   "metadata": {},
   "outputs": [
    {
     "data": {
      "text/plain": [
       "From Date      0\n",
       "To Date        0\n",
       "Ozone        260\n",
       "CO           361\n",
       "SO2          371\n",
       "NO2          516\n",
       "PM10         407\n",
       "PM2.5        263\n",
       "State          0\n",
       "City           0\n",
       "Station        0\n",
       "dtype: int64"
      ]
     },
     "execution_count": 20,
     "metadata": {},
     "output_type": "execute_result"
    }
   ],
   "source": [
    "# 1.)  function  \n",
    "nul = df.isnull().sum()\n",
    "nul"
   ]
  },
  {
   "cell_type": "code",
   "execution_count": 23,
   "id": "b124b535",
   "metadata": {},
   "outputs": [
    {
     "data": {
      "text/plain": [
       "Ozone    260\n",
       "CO       361\n",
       "SO2      371\n",
       "NO2      516\n",
       "PM10     407\n",
       "PM2.5    263\n",
       "dtype: int64"
      ]
     },
     "execution_count": 23,
     "metadata": {},
     "output_type": "execute_result"
    }
   ],
   "source": [
    "# 2,)   \n",
    "\n",
    "nul = nul[nul>0]    # boolean indexing \n",
    "nul"
   ]
  },
  {
   "cell_type": "code",
   "execution_count": 25,
   "id": "086216a3",
   "metadata": {},
   "outputs": [
    {
     "data": {
      "text/plain": [
       "Index(['Ozone', 'CO', 'SO2', 'NO2', 'PM10', 'PM2.5'], dtype='object')"
      ]
     },
     "execution_count": 25,
     "metadata": {},
     "output_type": "execute_result"
    }
   ],
   "source": [
    "nul.index"
   ]
  },
  {
   "cell_type": "code",
   "execution_count": 28,
   "id": "90ce07d3",
   "metadata": {},
   "outputs": [
    {
     "data": {
      "text/plain": [
       "1.187214611872146"
      ]
     },
     "execution_count": 28,
     "metadata": {},
     "output_type": "execute_result"
    }
   ],
   "source": [
    "((260/21900)*100)"
   ]
  },
  {
   "cell_type": "code",
   "execution_count": 30,
   "id": "9b79323f",
   "metadata": {},
   "outputs": [
    {
     "data": {
      "text/html": [
       "<div>\n",
       "<style scoped>\n",
       "    .dataframe tbody tr th:only-of-type {\n",
       "        vertical-align: middle;\n",
       "    }\n",
       "\n",
       "    .dataframe tbody tr th {\n",
       "        vertical-align: top;\n",
       "    }\n",
       "\n",
       "    .dataframe thead th {\n",
       "        text-align: right;\n",
       "    }\n",
       "</style>\n",
       "<table border=\"1\" class=\"dataframe\">\n",
       "  <thead>\n",
       "    <tr style=\"text-align: right;\">\n",
       "      <th></th>\n",
       "      <th>Feature</th>\n",
       "      <th>count_value</th>\n",
       "      <th>percentage_null_value</th>\n",
       "    </tr>\n",
       "  </thead>\n",
       "  <tbody>\n",
       "    <tr>\n",
       "      <th>3</th>\n",
       "      <td>NO2</td>\n",
       "      <td>516</td>\n",
       "      <td>2.356164</td>\n",
       "    </tr>\n",
       "    <tr>\n",
       "      <th>4</th>\n",
       "      <td>PM10</td>\n",
       "      <td>407</td>\n",
       "      <td>1.858447</td>\n",
       "    </tr>\n",
       "    <tr>\n",
       "      <th>2</th>\n",
       "      <td>SO2</td>\n",
       "      <td>371</td>\n",
       "      <td>1.694064</td>\n",
       "    </tr>\n",
       "    <tr>\n",
       "      <th>1</th>\n",
       "      <td>CO</td>\n",
       "      <td>361</td>\n",
       "      <td>1.648402</td>\n",
       "    </tr>\n",
       "    <tr>\n",
       "      <th>5</th>\n",
       "      <td>PM2.5</td>\n",
       "      <td>263</td>\n",
       "      <td>1.200913</td>\n",
       "    </tr>\n",
       "    <tr>\n",
       "      <th>0</th>\n",
       "      <td>Ozone</td>\n",
       "      <td>260</td>\n",
       "      <td>1.187215</td>\n",
       "    </tr>\n",
       "  </tbody>\n",
       "</table>\n",
       "</div>"
      ],
      "text/plain": [
       "  Feature  count_value  percentage_null_value\n",
       "3     NO2          516               2.356164\n",
       "4    PM10          407               1.858447\n",
       "2     SO2          371               1.694064\n",
       "1      CO          361               1.648402\n",
       "5   PM2.5          263               1.200913\n",
       "0   Ozone          260               1.187215"
      ]
     },
     "execution_count": 30,
     "metadata": {},
     "output_type": "execute_result"
    }
   ],
   "source": [
    "# 3 \n",
    "\n",
    "# columns  null_value  percentage_null \n",
    "\n",
    "\n",
    "\n",
    "d = {\"Feature\":nul.index,\"count_value\":nul.values,\"percentage_null_value\":(nul.values/df.shape[0])*100}     \n",
    "\n",
    "result = pd.DataFrame(d)\n",
    "result = result.sort_values(\"percentage_null_value\",ascending=False) \n",
    "\n",
    "result\n",
    "\n",
    "\n"
   ]
  },
  {
   "cell_type": "code",
   "execution_count": 31,
   "id": "fcddef46",
   "metadata": {},
   "outputs": [],
   "source": [
    "# function python  \n",
    "\n",
    "def harsh_sir_nullchecker(df):   # parameter\n",
    "    nul = df.isnull().sum()\n",
    "    nul = nul[nul>0] \n",
    "    d = {\"Feature\":nul.index,\"count_value\":nul.values,\"percentage_null_value\":(nul.values/df.shape[0])*100}     \n",
    "\n",
    "    result = pd.DataFrame(d)\n",
    "    result = result.sort_values(\"percentage_null_value\",ascending=False) \n",
    "\n",
    "    return result\n"
   ]
  },
  {
   "cell_type": "code",
   "execution_count": 33,
   "id": "22dc9cee",
   "metadata": {},
   "outputs": [
    {
     "data": {
      "text/html": [
       "<div>\n",
       "<style scoped>\n",
       "    .dataframe tbody tr th:only-of-type {\n",
       "        vertical-align: middle;\n",
       "    }\n",
       "\n",
       "    .dataframe tbody tr th {\n",
       "        vertical-align: top;\n",
       "    }\n",
       "\n",
       "    .dataframe thead th {\n",
       "        text-align: right;\n",
       "    }\n",
       "</style>\n",
       "<table border=\"1\" class=\"dataframe\">\n",
       "  <thead>\n",
       "    <tr style=\"text-align: right;\">\n",
       "      <th></th>\n",
       "      <th>Feature</th>\n",
       "      <th>count_value</th>\n",
       "      <th>percentage_null_value</th>\n",
       "    </tr>\n",
       "  </thead>\n",
       "  <tbody>\n",
       "    <tr>\n",
       "      <th>3</th>\n",
       "      <td>NO2</td>\n",
       "      <td>516</td>\n",
       "      <td>2.356164</td>\n",
       "    </tr>\n",
       "    <tr>\n",
       "      <th>4</th>\n",
       "      <td>PM10</td>\n",
       "      <td>407</td>\n",
       "      <td>1.858447</td>\n",
       "    </tr>\n",
       "    <tr>\n",
       "      <th>2</th>\n",
       "      <td>SO2</td>\n",
       "      <td>371</td>\n",
       "      <td>1.694064</td>\n",
       "    </tr>\n",
       "    <tr>\n",
       "      <th>1</th>\n",
       "      <td>CO</td>\n",
       "      <td>361</td>\n",
       "      <td>1.648402</td>\n",
       "    </tr>\n",
       "    <tr>\n",
       "      <th>5</th>\n",
       "      <td>PM2.5</td>\n",
       "      <td>263</td>\n",
       "      <td>1.200913</td>\n",
       "    </tr>\n",
       "    <tr>\n",
       "      <th>0</th>\n",
       "      <td>Ozone</td>\n",
       "      <td>260</td>\n",
       "      <td>1.187215</td>\n",
       "    </tr>\n",
       "  </tbody>\n",
       "</table>\n",
       "</div>"
      ],
      "text/plain": [
       "  Feature  count_value  percentage_null_value\n",
       "3     NO2          516               2.356164\n",
       "4    PM10          407               1.858447\n",
       "2     SO2          371               1.694064\n",
       "1      CO          361               1.648402\n",
       "5   PM2.5          263               1.200913\n",
       "0   Ozone          260               1.187215"
      ]
     },
     "execution_count": 33,
     "metadata": {},
     "output_type": "execute_result"
    }
   ],
   "source": [
    "a = harsh_sir_nullchecker(df)\n",
    "a"
   ]
  },
  {
   "cell_type": "code",
   "execution_count": 34,
   "id": "dfbb42d3",
   "metadata": {},
   "outputs": [
    {
     "data": {
      "text/plain": [
       "array(['NO2', 'PM10', 'SO2', 'CO', 'PM2.5', 'Ozone'], dtype=object)"
      ]
     },
     "execution_count": 34,
     "metadata": {},
     "output_type": "execute_result"
    }
   ],
   "source": [
    "cols = a['Feature'].values"
   ]
  },
  {
   "cell_type": "code",
   "execution_count": 35,
   "id": "17eafa2e",
   "metadata": {},
   "outputs": [
    {
     "data": {
      "text/plain": [
       "['NO2', 'PM10', 'SO2', 'CO', 'PM2.5', 'Ozone']"
      ]
     },
     "execution_count": 35,
     "metadata": {},
     "output_type": "execute_result"
    }
   ],
   "source": [
    "cols = ['NO2', 'PM10', 'SO2', 'CO', 'PM2.5', 'Ozone']\n",
    "cols"
   ]
  },
  {
   "cell_type": "code",
   "execution_count": 36,
   "id": "f0529972",
   "metadata": {},
   "outputs": [
    {
     "data": {
      "text/plain": [
       "<seaborn.axisgrid.FacetGrid at 0x20f6f7e8370>"
      ]
     },
     "execution_count": 36,
     "metadata": {},
     "output_type": "execute_result"
    },
    {
     "data": {
      "image/png": "[encoded data removed]",
      "text/plain": [
       "<Figure size 594x500 with 1 Axes>"
      ]
     },
     "metadata": {},
     "output_type": "display_data"
    }
   ],
   "source": [
    "sns.displot(df[cols],kde=True)"
   ]
  },
  {
   "cell_type": "code",
   "execution_count": 37,
   "id": "731d6205",
   "metadata": {},
   "outputs": [
    {
     "name": "stdout",
     "output_type": "stream",
     "text": [
      "it is not normal test\n"
     ]
    }
   ],
   "source": [
    "## do statistic  \n",
    "\n",
    "# 5000 shapiro walk test , 5000 jarque_bera \n",
    "\n",
    "import scipy.stats as stats \n",
    "\n",
    "p,stats = stats.jarque_bera(df[cols])\n",
    "if p>0.5:\n",
    "    print(\"it is normal distribution  null hypotheses\")\n",
    "else:\n",
    "    print(\"it is not normal test\")\n"
   ]
  },
  {
   "cell_type": "code",
   "execution_count": 38,
   "id": "52408b99",
   "metadata": {},
   "outputs": [
    {
     "data": {
      "text/plain": [
       "['NO2', 'PM10', 'SO2', 'CO', 'PM2.5', 'Ozone']"
      ]
     },
     "execution_count": 38,
     "metadata": {},
     "output_type": "execute_result"
    }
   ],
   "source": [
    "cols"
   ]
  },
  {
   "cell_type": "code",
   "execution_count": 42,
   "id": "737b665d",
   "metadata": {},
   "outputs": [
    {
     "data": {
      "image/png": "[encoded data removed]",
      "text/plain": [
       "<Figure size 1000x1200 with 6 Axes>"
      ]
     },
     "metadata": {},
     "output_type": "display_data"
    }
   ],
   "source": [
    "plt.figure(figsize=(10,12))\n",
    "for i in range(len(cols)):\n",
    "    plt.subplot(4,2,i+1)\n",
    "    sns.boxplot(x=df[cols[i]])\n",
    "    plt.title(f\"boxplot {cols[i]}\")\n",
    "    \n",
    "plt.tight_layout()\n",
    "plt.show()"
   ]
  },
  {
   "cell_type": "code",
   "execution_count": null,
   "id": "ab543a0b",
   "metadata": {},
   "outputs": [],
   "source": [
    "# "
   ]
  },
  {
   "cell_type": "code",
   "execution_count": null,
   "id": "218cd0c5",
   "metadata": {},
   "outputs": [],
   "source": []
  },
  {
   "cell_type": "markdown",
   "id": "c3bcd1ad",
   "metadata": {},
   "source": [
    "#### 3 .b) checking there null values   # makinng dynamic functions\n",
    "\n"
   ]
  },
  {
   "cell_type": "code",
   "execution_count": null,
   "id": "5b295f0e",
   "metadata": {},
   "outputs": [],
   "source": []
  },
  {
   "cell_type": "code",
   "execution_count": null,
   "id": "64394422",
   "metadata": {},
   "outputs": [],
   "source": []
  },
  {
   "cell_type": "code",
   "execution_count": null,
   "id": "2e9915c9",
   "metadata": {},
   "outputs": [],
   "source": []
  },
  {
   "cell_type": "code",
   "execution_count": null,
   "id": "d5690b44",
   "metadata": {},
   "outputs": [],
   "source": []
  },
  {
   "cell_type": "code",
   "execution_count": null,
   "id": "1c38d986",
   "metadata": {},
   "outputs": [],
   "source": []
  },
  {
   "cell_type": "markdown",
   "id": "26730372",
   "metadata": {},
   "source": [
    "####  3. c.) remove outlier , etc"
   ]
  },
  {
   "cell_type": "code",
   "execution_count": null,
   "id": "f54f750f",
   "metadata": {},
   "outputs": [],
   "source": []
  },
  {
   "cell_type": "code",
   "execution_count": null,
   "id": "56b7171e",
   "metadata": {},
   "outputs": [],
   "source": []
  },
  {
   "cell_type": "code",
   "execution_count": null,
   "id": "e6fafa06",
   "metadata": {},
   "outputs": [],
   "source": []
  },
  {
   "cell_type": "code",
   "execution_count": null,
   "id": "8f57c79e",
   "metadata": {},
   "outputs": [],
   "source": []
  },
  {
   "cell_type": "code",
   "execution_count": null,
   "id": "52be0924",
   "metadata": {},
   "outputs": [],
   "source": []
  },
  {
   "cell_type": "code",
   "execution_count": 7,
   "id": "38fa51f3",
   "metadata": {},
   "outputs": [],
   "source": [
    "# check dublicates"
   ]
  },
  {
   "cell_type": "code",
   "execution_count": null,
   "id": "45c8e93c",
   "metadata": {},
   "outputs": [],
   "source": []
  },
  {
   "cell_type": "markdown",
   "id": "accfc75b",
   "metadata": {},
   "source": [
    "###  3 d. Fix Data Types\n",
    "Data Type Conversion: Convert date columns (From Date and To Date) to datetime format for better handling.¶"
   ]
  },
  {
   "cell_type": "code",
   "execution_count": null,
   "id": "61582af5",
   "metadata": {},
   "outputs": [],
   "source": []
  },
  {
   "cell_type": "code",
   "execution_count": null,
   "id": "f68c5a84",
   "metadata": {},
   "outputs": [],
   "source": []
  },
  {
   "cell_type": "code",
   "execution_count": 6,
   "id": "5614c299",
   "metadata": {},
   "outputs": [],
   "source": [
    "# separated categorical and numerical values "
   ]
  },
  {
   "cell_type": "code",
   "execution_count": null,
   "id": "36f1cd9a",
   "metadata": {},
   "outputs": [],
   "source": []
  },
  {
   "cell_type": "code",
   "execution_count": null,
   "id": "0bcc7856",
   "metadata": {},
   "outputs": [],
   "source": []
  },
  {
   "cell_type": "markdown",
   "id": "3a3d3dfd",
   "metadata": {},
   "source": [
    "#### 3 .e) check summary   correlation "
   ]
  },
  {
   "cell_type": "code",
   "execution_count": null,
   "id": "90f3de54",
   "metadata": {},
   "outputs": [],
   "source": []
  },
  {
   "cell_type": "markdown",
   "id": "7729d7e8",
   "metadata": {},
   "source": [
    "####  now doing added features \n",
    "\n",
    "##### 1.) added columns year,month,dayname,season \n",
    "#####  2.) "
   ]
  },
  {
   "cell_type": "code",
   "execution_count": 10,
   "id": "e469fc43",
   "metadata": {},
   "outputs": [],
   "source": [
    "# check from_date and to_date"
   ]
  },
  {
   "cell_type": "code",
   "execution_count": null,
   "id": "e0cc2ceb",
   "metadata": {},
   "outputs": [],
   "source": []
  },
  {
   "cell_type": "code",
   "execution_count": null,
   "id": "4db1ded7",
   "metadata": {},
   "outputs": [],
   "source": []
  },
  {
   "cell_type": "code",
   "execution_count": null,
   "id": "f6dd1985",
   "metadata": {},
   "outputs": [],
   "source": []
  },
  {
   "cell_type": "code",
   "execution_count": null,
   "id": "657f6e65",
   "metadata": {},
   "outputs": [],
   "source": []
  },
  {
   "cell_type": "code",
   "execution_count": null,
   "id": "237d8ab9",
   "metadata": {},
   "outputs": [],
   "source": []
  },
  {
   "cell_type": "code",
   "execution_count": null,
   "id": "bf200b22",
   "metadata": {},
   "outputs": [],
   "source": [
    "# rename date "
   ]
  },
  {
   "cell_type": "code",
   "execution_count": null,
   "id": "0ed81207",
   "metadata": {},
   "outputs": [],
   "source": []
  },
  {
   "cell_type": "markdown",
   "id": "0e963e88",
   "metadata": {},
   "source": [
    "###   univariate and many more etc "
   ]
  },
  {
   "cell_type": "code",
   "execution_count": null,
   "id": "e572cfb9",
   "metadata": {},
   "outputs": [],
   "source": []
  },
  {
   "cell_type": "code",
   "execution_count": 12,
   "id": "f2e88bfe",
   "metadata": {},
   "outputs": [],
   "source": [
    "# Seasonal AQI(PM2.5) Distribution:\n",
    "# Barplot to visualize the AQI levels across different seasons.\n",
    "# Day-wise AQI Levels:\n",
    "# Bar chart showing the average AQI (PM2.5) for each DayName.\n",
    "# Month-wise AQI Levels:\n",
    "# Bar chart or heatmap for average AQI across months."
   ]
  },
  {
   "cell_type": "code",
   "execution_count": null,
   "id": "a0d67209",
   "metadata": {},
   "outputs": [],
   "source": []
  },
  {
   "cell_type": "code",
   "execution_count": null,
   "id": "15f84756",
   "metadata": {},
   "outputs": [],
   "source": []
  },
  {
   "cell_type": "code",
   "execution_count": null,
   "id": "4eadeadb",
   "metadata": {},
   "outputs": [],
   "source": []
  },
  {
   "cell_type": "code",
   "execution_count": null,
   "id": "d9d543d5",
   "metadata": {},
   "outputs": [],
   "source": []
  },
  {
   "cell_type": "markdown",
   "id": "2377ef44",
   "metadata": {},
   "source": [
    "####  multivariate visualizations"
   ]
  },
  {
   "cell_type": "code",
   "execution_count": 9,
   "id": "30d030eb",
   "metadata": {},
   "outputs": [],
   "source": [
    "# heatmap  \n",
    "\n",
    "#  seasonal trends \n",
    "\n",
    "#  # Geographical Patterns  # Geographical Patterns   of station with respect to PM2.5 to PM 10"
   ]
  },
  {
   "cell_type": "code",
   "execution_count": null,
   "id": "138348b7",
   "metadata": {},
   "outputs": [],
   "source": []
  },
  {
   "cell_type": "markdown",
   "id": "5183c0cf",
   "metadata": {},
   "source": [
    "#### 2.) calulated aqi  \n",
    "\n",
    "<pre>\n",
    "\n",
    "good <=50\n",
    "\n",
    "moderate <=100\n",
    "\n",
    "unhealthy  <=200\n",
    "\n",
    "very unhealthy <=300\n",
    "\n",
    "hazadeous >300\n",
    "\n",
    "</pre>"
   ]
  },
  {
   "cell_type": "markdown",
   "id": "9faba8bb",
   "metadata": {},
   "source": [
    "<pre>\n",
    "\n",
    "AQI Range\tCategory\t    Health Implications\n",
    "0-50\t   Good\t            Minimal impact\n",
    "51-100\t   Satisfactory\t    Minor breathing discomfort\n",
    "101-200\t   Moderate\t        Breathing discomfort for sensitive\n",
    "201-300\t   Poor\tBreathing   issues for most people\n",
    "301-400\t   Very Poor\t     Respiratory impact on prolonged exp\n",
    "401-500\t    Severe\t         Serious health effects\n",
    "\n",
    "\n",
    "</pre>"
   ]
  },
  {
   "cell_type": "markdown",
   "id": "5d76b57c",
   "metadata": {},
   "source": [
    "###   checking zone to station "
   ]
  },
  {
   "cell_type": "code",
   "execution_count": null,
   "id": "22724a6a",
   "metadata": {},
   "outputs": [],
   "source": []
  },
  {
   "cell_type": "code",
   "execution_count": null,
   "id": "5589d052",
   "metadata": {},
   "outputs": [],
   "source": []
  },
  {
   "cell_type": "code",
   "execution_count": null,
   "id": "bb6b01a2",
   "metadata": {},
   "outputs": [],
   "source": [
    "# Define the station-to-zone mapping\n",
    "station_to_zone = {\n",
    "    'DTU, Delhi - CPCB': 'North West Delhi',\n",
    "    'Shadipur, Delhi - CPCB': 'Central Delhi',\n",
    "    'Anand Vihar, Delhi - DPCC': 'East Delhi',\n",
    "    'Pusa, Delhi - DPCC': 'Central Delhi',\n",
    "    'Sri Aurobindo Marg, Delhi - DPCC': 'South Delhi',\n",
    "    'Mundka, Delhi - DPCC': 'West Delhi',\n",
    "    'Bawana, Delhi - DPCC': 'North West Delhi',\n",
    "    'Vivek Vihar, Delhi - DPCC': 'East Delhi',\n",
    "    'Wazirpur, Delhi - DPCC': 'North Delhi',\n",
    "    'Sonia Vihar, Delhi - DPCC': 'North East Delhi',\n",
    "    'Patparganj, Delhi - DPCC': 'East Delhi',\n",
    "    'Rohini, Delhi - DPCC': 'North West Delhi',\n",
    "    'Nehru Nagar, Delhi - DPCC': 'South East Delhi',\n",
    "    'Okhla Phase-2, Delhi - DPCC': 'South East Delhi',\n",
    "    'Najafgarh, Delhi - DPCC': 'South West Delhi',\n",
    "    'Narela, Delhi - DPCC': 'North Delhi',\n",
    "    'Major Dhyan Chand National Stadium, Delhi - DPCC': 'Central Delhi',\n",
    "    'Jawaharlal Nehru Stadium, Delhi - DPCC': 'South Delhi',\n",
    "    'Jahangirpuri, Delhi - DPCC': 'North Delhi',\n",
    "    'Dwarka-Sector 8, Delhi - DPCC': 'South West Delhi',\n",
    "    'Dr. Karni Singh Shooting Range, Delhi - DPCC': 'South Delhi',\n",
    "    'Ashok Vihar, Delhi - DPCC': 'North Delhi',\n",
    "    'Punjabi Bagh, Delhi - DPCC': 'West Delhi',\n",
    "    'R K Puram, Delhi - DPCC': 'South West Delhi',\n",
    "    'Mandir Marg, Delhi - DPCC': 'Central Delhi',\n",
    "    'Sirifort, Delhi - CPCB': 'South Delhi',\n",
    "    'ITO, Delhi - CPCB': 'Central Delhi',\n",
    "    'NSIT Dwarka, Delhi - CPCB': 'South West Delhi',\n",
    "    'IHBAS, Dilshad Garden, Delhi - CPCB': 'Shahdara',\n",
    "    'Alipur, Delhi - DPCC': 'North Delhi'\n",
    "}\n"
   ]
  },
  {
   "cell_type": "code",
   "execution_count": null,
   "id": "e10ad391",
   "metadata": {},
   "outputs": [],
   "source": []
  },
  {
   "cell_type": "markdown",
   "id": "3864b10a",
   "metadata": {},
   "source": [
    "###  checks the aqi with respect to zone  by visualiztions"
   ]
  },
  {
   "cell_type": "code",
   "execution_count": null,
   "id": "9ecdd232",
   "metadata": {},
   "outputs": [],
   "source": []
  },
  {
   "cell_type": "code",
   "execution_count": null,
   "id": "0e727b95",
   "metadata": {},
   "outputs": [],
   "source": []
  },
  {
   "cell_type": "markdown",
   "id": "49269c63",
   "metadata": {},
   "source": [
    "### check the aqi with season by visualiztion"
   ]
  },
  {
   "cell_type": "code",
   "execution_count": null,
   "id": "3bc31b3e",
   "metadata": {},
   "outputs": [],
   "source": []
  },
  {
   "cell_type": "code",
   "execution_count": null,
   "id": "bb034328",
   "metadata": {},
   "outputs": [],
   "source": []
  },
  {
   "cell_type": "code",
   "execution_count": null,
   "id": "73ca6101",
   "metadata": {},
   "outputs": [],
   "source": []
  },
  {
   "cell_type": "markdown",
   "id": "0fa1c42d",
   "metadata": {},
   "source": [
    "###  machine learning "
   ]
  },
  {
   "cell_type": "code",
   "execution_count": null,
   "id": "badbcd10",
   "metadata": {},
   "outputs": [],
   "source": [
    "import pandas as pd\n",
    "from sklearn.model_selection import train_test_split\n",
    "from sklearn.ensemble import RandomForestClassifier\n",
    "from sklearn.preprocessing import LabelEncoder\n",
    "import pickle\n",
    "\n",
    "# Load dataset\n",
    "df\n",
    "\n",
    "# Encode categorical features\n",
    "label_encoder = LabelEncoder()\n",
    "df['AQI_Category'] = label_encoder.fit_transform(df['AQI_Category'])\n",
    "\n",
    "# Prepare features and target\n",
    "features = ['Ozone', 'CO', 'SO2', 'NO2', 'PM10', 'PM2.5']\n",
    "X = df[features]\n",
    "y = df['AQI_Category']\n",
    "\n",
    "# Split data\n",
    "X_train, X_test, y_train, y_test = train_test_split(X, y, test_size=0.2, random_state=42)\n",
    "\n",
    "# Train model\n",
    "model = RandomForestClassifier()\n",
    "model.fit(X_train, y_train)\n",
    "\n",
    "# Save model\n",
    "with open(\"aqi_model.pkl\", \"wb\") as f:\n",
    "    pickle.dump((model, label_encoder), f)\n"
   ]
  }
 ],
 "metadata": {
  "kernelspec": {
   "display_name": "Python 3 (ipykernel)",
   "language": "python",
   "name": "python3"
  },
  "language_info": {
   "codemirror_mode": {
    "name": "ipython",
    "version": 3
   },
   "file_extension": ".py",
   "mimetype": "text/x-python",
   "name": "python",
   "nbconvert_exporter": "python",
   "pygments_lexer": "ipython3",
   "version": "3.9.16"
  }
 },
 "nbformat": 4,
 "nbformat_minor": 5
}
